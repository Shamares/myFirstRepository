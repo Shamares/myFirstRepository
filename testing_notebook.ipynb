{
 "cells": [
  {
   "cell_type": "code",
   "execution_count": 4,
   "id": "2be47076-f493-402e-820d-2d99179bf7cf",
   "metadata": {
    "tags": []
   },
   "outputs": [
    {
     "name": "stdout",
     "output_type": "stream",
     "text": [
      "The total number of words in example sentence is  39\n"
     ]
    }
   ],
   "source": [
    "#simple testing word count in a string\n",
    "\n",
    "string = \"Szeth-son-son-Vallano, Truthless of Shinovar, wore white on the day he was to kill a king. The white clothing was a Parshendi tradition, foreign to him. But he did as his masters required and did not ask for an explanation.\"\n",
    "\n",
    "words = []\n",
    "words = string.split()\n",
    "total = 0\n",
    "for words in words:\n",
    "    total = total + 1\n",
    "print(\"The total number of words in example sentence is \", total)"
   ]
  },
  {
   "cell_type": "code",
   "execution_count": null,
   "id": "b48aaa85-0ccc-4019-96d5-f163da2af695",
   "metadata": {},
   "outputs": [],
   "source": []
  }
 ],
 "metadata": {
  "kernelspec": {
   "display_name": "Python 3 (ipykernel)",
   "language": "python",
   "name": "python3"
  },
  "language_info": {
   "codemirror_mode": {
    "name": "ipython",
    "version": 3
   },
   "file_extension": ".py",
   "mimetype": "text/x-python",
   "name": "python",
   "nbconvert_exporter": "python",
   "pygments_lexer": "ipython3",
   "version": "3.11.4"
  }
 },
 "nbformat": 4,
 "nbformat_minor": 5
}
